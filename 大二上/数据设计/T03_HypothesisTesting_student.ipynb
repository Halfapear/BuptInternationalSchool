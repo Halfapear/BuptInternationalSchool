{
 "cells": [
  {
   "cell_type": "markdown",
   "metadata": {},
   "source": [
    "Hypothesis Testing - Tutorial\n",
    "==="
   ]
  },
  {
   "cell_type": "markdown",
   "metadata": {},
   "source": [
    "**Dr Chao Shu (chao.shu@qmul.ac.uk)**"
   ]
  },
  {
   "cell_type": "code",
   "execution_count": 1,
   "metadata": {},
   "outputs": [],
   "source": [
    "import numpy as np\n",
    "import pandas as pd\n",
    "import matplotlib.pyplot as plt\n",
    "%matplotlib inline\n",
    "import seaborn as sns\n",
    "from scipy import stats\n",
    "\n",
    "sns.set_theme(style=\"ticks\")\n",
    "\n",
    "# Set the random seed for reproducibility\n",
    "np.random.seed(42)\n",
    "\n",
    "# Import the tutorial dataset\n",
    "stack_overflow_df = pd.read_csv(\"datasets/T03_stack_overflow.csv\")"
   ]
  },
  {
   "cell_type": "markdown",
   "metadata": {},
   "source": [
    "## Introduction\n",
    "---"
   ]
  },
  {
   "cell_type": "markdown",
   "metadata": {},
   "source": [
    "Each year, [Stack Overflow](https://stackoverflow.com/) makes surveys on its users, most of which are software developers. The surveys are about users' personal information, how they use Stack Overflow, their work, and development tools they use, etc. \n",
    "\n",
    "In this tutorial, we'll look at a subset of the sruvey responses in [2020](https://insights.stackoverflow.com/survey/2020) from users who are identified as Data Scientists and try to explore some fun facts.\n",
    "\n",
    "As usual, let's first take a quick look at the dataset. \n"
   ]
  },
  {
   "cell_type": "code",
   "execution_count": null,
   "metadata": {},
   "outputs": [],
   "source": [
    "print(stack_overflow_df.shape)\n",
    "stack_overflow_df.head()\n"
   ]
  },
  {
   "cell_type": "code",
   "execution_count": null,
   "metadata": {},
   "outputs": [],
   "source": [
    "stack_overflow_df.info()"
   ]
  },
  {
   "cell_type": "markdown",
   "metadata": {},
   "source": [
    "## 💰Annual Compensation of Data Scientists\n",
    "---"
   ]
  },
  {
   "cell_type": "markdown",
   "metadata": {},
   "source": [
    "Suppose we are insterested in the income of data scientists and we heard from somewhere on the internet that the mean annual compensation of data scientists is $100, 000. Based on the Stack Over flow survey data, we would like know whether there is sufficient evidence to support this claim."
   ]
  },
  {
   "cell_type": "markdown",
   "metadata": {},
   "source": [
    "**Step 1**: Set up a hypothesis"
   ]
  },
  {
   "cell_type": "markdown",
   "metadata": {},
   "source": [
    "**Q1.1** State the null and alternative hypotheses."
   ]
  },
  {
   "cell_type": "markdown",
   "metadata": {},
   "source": [
    "put your answer here."
   ]
  },
  {
   "cell_type": "markdown",
   "metadata": {},
   "source": [
    "**Step 2**: Collect a sample and find out the summary statistics of the sample.\n",
    "\n",
    "Since we already have the data, let's explore the sample data. The annual compensation, converted to dollars, is stored in th `converted_comp` column."
   ]
  },
  {
   "cell_type": "markdown",
   "metadata": {},
   "source": [
    "**Q1.2**: find the sample size, sample mean and sample standard deviation. Furthermore, plot a histogram and a boxplot to examine the distribution of the annual compensation data."
   ]
  },
  {
   "cell_type": "code",
   "execution_count": null,
   "metadata": {},
   "outputs": [],
   "source": [
    "sample_size = stack_overflow_df._____[0]\n",
    "sample_mean = stack_overflow_df['_____']._____()\n",
    "sample_std = stack_overflow_df['_____']._____()\n",
    "\n",
    "print(\"sample size =  \", sample_size)\n",
    "print(\"Sample (mean, std) = ({}, {})\".format(sample_mean, sample_std))"
   ]
  },
  {
   "cell_type": "code",
   "execution_count": null,
   "metadata": {},
   "outputs": [],
   "source": [
    "# Check the distribution of the data of interest\n",
    "fig, axs = plt.subplots(1, 2, figsize=(8, 3))\n",
    "\n",
    "sns._____(data=_____['________'], ax=axs[0])\n",
    "sns._____(data=_____['________'], ax=axs[1])\n",
    "\n",
    "fig.tight_layout()\n",
    "plt.show()"
   ]
  },
  {
   "cell_type": "markdown",
   "metadata": {},
   "source": [
    "**Q1.3**: What hypothesis test method(s) should be used? Why?"
   ]
  },
  {
   "cell_type": "markdown",
   "metadata": {},
   "source": [
    "put your answer here."
   ]
  },
  {
   "cell_type": "markdown",
   "metadata": {},
   "source": [
    "**Step 3**: Define a significance level\n",
    "\n",
    "As usual, we set $\\alpha = 0.05$."
   ]
  },
  {
   "cell_type": "markdown",
   "metadata": {},
   "source": [
    "**Step 4**: Generate the sampling distribution of the statistic of interest under the null hypothesis"
   ]
  },
  {
   "cell_type": "markdown",
   "metadata": {},
   "source": [
    "**Q1.4**: Under the null hypothesis, what is the mean annual compensation? "
   ]
  },
  {
   "cell_type": "code",
   "execution_count": null,
   "metadata": {},
   "outputs": [],
   "source": [
    "mean_null = _____"
   ]
  },
  {
   "cell_type": "markdown",
   "metadata": {},
   "source": [
    "**Q1.5**: Find out the **standard error** of the mean annual compensation."
   ]
  },
  {
   "cell_type": "code",
   "execution_count": null,
   "metadata": {},
   "outputs": [],
   "source": []
  },
  {
   "cell_type": "markdown",
   "metadata": {},
   "source": [
    "**Q1.6**: What distribution does the sampling distribution of the mean annual compensation follow? What distribution will the null distribution follow?"
   ]
  },
  {
   "cell_type": "markdown",
   "metadata": {},
   "source": [
    "Put your answer here."
   ]
  },
  {
   "cell_type": "markdown",
   "metadata": {},
   "source": [
    "**Step 5**: Determine the p-value"
   ]
  },
  {
   "cell_type": "markdown",
   "metadata": {},
   "source": [
    "**Q1.7**: Calculate p-value using a suitable approach."
   ]
  },
  {
   "cell_type": "code",
   "execution_count": null,
   "metadata": {},
   "outputs": [],
   "source": [
    "# Calculate z-score\n",
    "z = (________ - ________) / ________\n",
    "\n",
    "# Calculate p-value for this right-tailed test\n",
    "p_value = ________\n",
    "\n",
    "print(\"(z-score, p-value) = ({}, {})\".format(z, p_value))"
   ]
  },
  {
   "cell_type": "markdown",
   "metadata": {},
   "source": [
    "**Step 6** Draw conclusions\n"
   ]
  },
  {
   "cell_type": "markdown",
   "metadata": {},
   "source": [
    "**Q1.8**: Based on the p-value and the significance level, what can we conclude about the mean annual compensation of data scientists?"
   ]
  },
  {
   "cell_type": "markdown",
   "metadata": {},
   "source": [
    "Put your answer here."
   ]
  },
  {
   "cell_type": "markdown",
   "metadata": {},
   "source": [
    "## 🧒Annual Compensation of Data Scientists who First Programmed as a Child\n",
    "---"
   ]
  },
  {
   "cell_type": "markdown",
   "metadata": {},
   "source": [
    "We noticed in the survey the participants were asked at what age they wrote their first line of code, which is stored in `age_1st_code` column. We are interested to know whether the data scientists who first programmed as early as children earn more than those that started as adults."
   ]
  },
  {
   "cell_type": "markdown",
   "metadata": {},
   "source": [
    "### Data Wrangling"
   ]
  },
  {
   "cell_type": "markdown",
   "metadata": {},
   "source": [
    "In this mini-project, we classify the participants into two categories, those who first programmed as children and those who first programmed as adults, based on the age at which they wrote their first line of code.\n",
    "\n",
    "**Q2.1**: Add a column `age_category` to the `stack_overflow_df` containing labels to every respondent based on the definition below:\n",
    "- The respondents who wrote their first line of codes at 14 or older are labelled as \"adult\"\n",
    "- The respondents who wrote their first line of codes before 14 are labelled as \"child\"\n",
    "\n",
    "*hint: use [`pandas.cut`](https://pandas.pydata.org/docs/reference/api/pandas.cut.html) to generate labels for each respondent*"
   ]
  },
  {
   "cell_type": "code",
   "execution_count": null,
   "metadata": {},
   "outputs": [],
   "source": [
    "# Check the summary statistics of the data in `age_1st_code` column\n",
    "stack_overflow_df['________'].________()"
   ]
  },
  {
   "cell_type": "code",
   "execution_count": null,
   "metadata": {},
   "outputs": [],
   "source": [
    "# Convert the ages to integer (optional)\n",
    "stack_overflow_df['age_1st_code'] = stack_overflow_df['age_1st_code'].astype(int)\n",
    "\n",
    "# Define the age categories\n",
    "bins = [0, ___, stack_overflow_df['age_1st_code'].max()]  # The range will be (0, 13], (13, 45] with right=True as default\n",
    "labels = ['______', '______']\n",
    "\n",
    "# Create a new column to store the categories\n",
    "stack_overflow_df['________'] = pd.cut(stack_overflow_df['________'], bins=bins, labels=labels)"
   ]
  },
  {
   "cell_type": "markdown",
   "metadata": {},
   "source": [
    "### Hypothesis Test"
   ]
  },
  {
   "cell_type": "markdown",
   "metadata": {},
   "source": [
    "The question we try to answer in this hypothesis test is: whether the data scientists who first programmed as early as children earn more than those that started as adults."
   ]
  },
  {
   "cell_type": "markdown",
   "metadata": {},
   "source": [
    "**Step 1**: Set up a hypothesis"
   ]
  },
  {
   "cell_type": "markdown",
   "metadata": {},
   "source": [
    "**Q2.2** State the null and alternative hypotheses."
   ]
  },
  {
   "cell_type": "markdown",
   "metadata": {},
   "source": [
    "Put your answer here."
   ]
  },
  {
   "cell_type": "markdown",
   "metadata": {},
   "source": [
    "**Step 2**: Collect a sample and find out the summary statistics of the sample.\n",
    "\n",
    "Since we already have the data, let's explore the sample data in different age categories."
   ]
  },
  {
   "cell_type": "markdown",
   "metadata": {},
   "source": [
    "**Q2.3**: Find the sample mean, sample standard deviation and sample size for each age group."
   ]
  },
  {
   "cell_type": "code",
   "execution_count": null,
   "metadata": {},
   "outputs": [],
   "source": [
    "# Save data scientists in different age category in separate dataframes\n",
    "child_df = stack_overflow_df.query('__________ == \"______\"')\n",
    "adult_df = stack_overflow_df.query('__________ == \"______\"')\n",
    "\n",
    "# Sample statistics for the \"child\" group\n",
    "mean_child, std_child, n_child = child_df['___________'].______(), child_df['___________'].______(), child_df['___________'].________\n",
    "mean_adult, std_adult, n_adult = adult_df['___________'].______(), adult_df['___________'].______(), adult_df['___________'].________\n",
    "print(\"'child' group: (mean, std, n) = ({}, {}, {})\".format(mean_child, std_child, n_child))\n",
    "print(\"'adult' group: (mean, std, n) = ({}, {}, {})\".format(mean_adult, std_adult, n_adult))\n"
   ]
  },
  {
   "cell_type": "markdown",
   "metadata": {},
   "source": [
    "**Q2.4**: What shape does the distribution of each age group's annual compensation follow?"
   ]
  },
  {
   "cell_type": "code",
   "execution_count": null,
   "metadata": {},
   "outputs": [],
   "source": [
    "fig, axs = plt.subplots(1, 2, figsize=(8, 4))\n",
    "\n",
    "# Show the histograms of the annual compensation of each age group \n",
    "sns.histplot(child_df['________'], ax=axs[0])\n",
    "sns.histplot(adult_df['________'], ax=axs[1])\n",
    "\n",
    "fig.tight_layout()\n",
    "plt.show()"
   ]
  },
  {
   "cell_type": "markdown",
   "metadata": {},
   "source": [
    "**Step 3**: Define a significance level\n",
    "\n",
    "As usual, we set $\\alpha = 0.05$."
   ]
  },
  {
   "cell_type": "markdown",
   "metadata": {},
   "source": [
    "**Step 4**: Generate the sampling distribution of the statistic of interest under the null hypothesis"
   ]
  },
  {
   "cell_type": "markdown",
   "metadata": {},
   "source": [
    "**Q2.5**: Using bootstrappting, obtain standard errors of the mean annual compensation for both age groups as well as the standard error of the mean annual compensation difference between the two age groups"
   ]
  },
  {
   "cell_type": "code",
   "execution_count": null,
   "metadata": {},
   "outputs": [],
   "source": [
    "boot_child_means, boot_adult_means, boot_diff_means = [], [], []\n",
    "\n",
    "for i in range(10000):\n",
    "    # Boostrapping the original sample to generate a new sample\n",
    "    boot_sample = stack_overflow_df.sample(frac=___, replace=___)\n",
    "\n",
    "    # Calculate the mean annual compensation for the two age groups, respectively.\n",
    "    child_mean = ____________[____________['________'] == 'child']['____________'].mean() \n",
    "    adult_mean = ____________[____________['________'] == '_____']['____________'].mean() \n",
    "\n",
    "    # Insert current mean to the list of means to generate the sampling distributions of the mean annual compensation for both age groups\n",
    "    # as well as the sampling distribution of the mean difference between the two age groups.\n",
    "    boot_child_means.append(____________)\n",
    "    boot_adult_means.append(____________)\n",
    "    boot_diff_means.append(____________ - ____________)\n",
    "\n",
    "print(\"standard error of the mean annual compensation for data scientists who start programming as children from bootstrapping: \", np.std(boot_child_means))\n",
    "print(\"standard error of the mean annual compensation for data scientists who start programming as adults from bootstrapping: \", np.std(boot_adult_means))\n",
    "print(\"standard error of the mean difference from bootstrapping: \", np.std(boot_diff_means))\n"
   ]
  },
  {
   "cell_type": "markdown",
   "metadata": {},
   "source": [
    "**Q2.6**: Use histograms to visualise the sampling distributions of the mean anunual compensation for both age groups and the sampling distributions of the mean anunual compensation between the two groups."
   ]
  },
  {
   "cell_type": "code",
   "execution_count": null,
   "metadata": {},
   "outputs": [],
   "source": [
    "fig, axs = plt.subplots(1, 2, figsize=(8, 3))\n",
    "\n",
    "sns.histplot(data=____________, ax=axs[0], alpha=0.5, label=\"child\")\n",
    "sns.histplot(data=____________, ax=axs[0], alpha=0.5, label=\"adult\")\n",
    "axs[0].set_xlabel(\"Mean Annual Compensation\")\n",
    "axs[0].legend()\n",
    "\n",
    "sns.histplot(data=____________, ax=axs[1])\n",
    "axs[1].set_xlabel(\"Mean Difference between two age groups\")\n",
    "\n",
    "fig.tight_layout()\n",
    "plt.show()"
   ]
  },
  {
   "cell_type": "markdown",
   "metadata": {},
   "source": [
    "**Q2.7**: What distribution does the sampling distribution of the mean annual compensation difference follow? What distribution will the null distribution of the mean annual compensation difference follow?"
   ]
  },
  {
   "cell_type": "markdown",
   "metadata": {},
   "source": [
    "Put your answer here."
   ]
  },
  {
   "cell_type": "markdown",
   "metadata": {},
   "source": [
    "**Step 5**: Determine the p-value"
   ]
  },
  {
   "cell_type": "markdown",
   "metadata": {},
   "source": [
    "**Q2.8**: Calculate p-value using a suitable approach."
   ]
  },
  {
   "cell_type": "code",
   "execution_count": null,
   "metadata": {},
   "outputs": [],
   "source": [
    "# Calculate z-score\n",
    "z = (________ - ________) / ________\n",
    "\n",
    "# Calculate p-value for this right-tailed test\n",
    "p_value = ________\n",
    "\n",
    "print(\"(z-score, p-value) = ({}, {})\".format(z, p_value))"
   ]
  },
  {
   "cell_type": "markdown",
   "metadata": {},
   "source": [
    "**Step 6** Draw conclusions\n"
   ]
  },
  {
   "cell_type": "markdown",
   "metadata": {},
   "source": [
    "**Q2.9**: Based on the p-value and the significance level, what conclusion can you draw?"
   ]
  },
  {
   "cell_type": "markdown",
   "metadata": {},
   "source": [
    "Put your answer here."
   ]
  },
  {
   "cell_type": "markdown",
   "metadata": {},
   "source": [
    "### Perform a Parametric Test"
   ]
  },
  {
   "cell_type": "markdown",
   "metadata": {},
   "source": [
    "We have been using bootstrapping in this tutorial so far. From the boostrapping results, it can be observed that the sampling distribution of the statistic of interest are approximately normally distributed, which demonstrates that the sample size in this example is sufficient large so that the CLT is applicable.\n",
    "\n",
    "**Q2.10**: Perform a two-sample t-test using `scipy.stats.ttest_ind()` and compare the results from the two-sample t-test with the results based on bootstrapping."
   ]
  },
  {
   "cell_type": "code",
   "execution_count": null,
   "metadata": {},
   "outputs": [],
   "source": []
  }
 ],
 "metadata": {
  "kernelspec": {
   "display_name": "general_env",
   "language": "python",
   "name": "python3"
  },
  "language_info": {
   "codemirror_mode": {
    "name": "ipython",
    "version": 3
   },
   "file_extension": ".py",
   "mimetype": "text/x-python",
   "name": "python",
   "nbconvert_exporter": "python",
   "pygments_lexer": "ipython3",
   "version": "3.11.4"
  }
 },
 "nbformat": 4,
 "nbformat_minor": 2
}
